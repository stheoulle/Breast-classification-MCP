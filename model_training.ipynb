{
 "cells": [
  {
   "cell_type": "markdown",
   "metadata": {},
   "source": [
    "### I. Import Required Dependecies"
   ]
  },
  {
   "cell_type": "code",
   "execution_count": 1,
   "metadata": {
    "execution": {
     "iopub.execute_input": "2024-01-06T17:15:30.399427Z",
     "iopub.status.busy": "2024-01-06T17:15:30.398985Z",
     "iopub.status.idle": "2024-01-06T17:15:48.531139Z",
     "shell.execute_reply": "2024-01-06T17:15:48.529621Z",
     "shell.execute_reply.started": "2024-01-06T17:15:30.399391Z"
    },
    "trusted": true
   },
   "outputs": [
    {
     "name": "stderr",
     "output_type": "stream",
     "text": [
      "2025-08-22 15:11:42.608110: I tensorflow/core/util/port.cc:153] oneDNN custom operations are on. You may see slightly different numerical results due to floating-point round-off errors from different computation orders. To turn them off, set the environment variable `TF_ENABLE_ONEDNN_OPTS=0`.\n",
      "2025-08-22 15:11:42.637046: I tensorflow/core/platform/cpu_feature_guard.cc:210] This TensorFlow binary is optimized to use available CPU instructions in performance-critical operations.\n",
      "To enable the following instructions: AVX2 AVX_VNNI FMA, in other operations, rebuild TensorFlow with the appropriate compiler flags.\n"
     ]
    }
   ],
   "source": [
    "import os\n",
    "# Désactive tous les GPU\n",
    "os.environ[\"CUDA_VISIBLE_DEVICES\"] = \"-1\"\n",
    "\n",
    "import glob\n",
    "from IPython.display import Image as IPImage\n",
    "import pandas as pd             # Pandas\n",
    "import numpy as np              # NumPy\n",
    "import matplotlib.pyplot as plt # Matplotlib\n",
    "import seaborn as sns           # Seaborn\n",
    "from PIL import Image           # Pillow\n",
    "\n",
    "# TensorFlow / Keras (unifié)\n",
    "import tensorflow as tf\n",
    "from tensorflow import keras\n",
    "from tensorflow.keras.utils import plot_model\n",
    "\n",
    "# Layers & Models\n",
    "from tensorflow.keras.layers import (\n",
    "    Flatten, Dense, Activation, Dropout,\n",
    "    Conv2D, MaxPooling2D\n",
    ")\n",
    "from tensorflow.keras import models, optimizers\n",
    "from tensorflow.keras.models import Sequential, model_from_json\n",
    "from tensorflow.keras.constraints import MaxNorm\n",
    "from tensorflow.keras.callbacks import ModelCheckpoint\n",
    "from tensorflow.keras.optimizers import Adam, Adamax\n",
    "from tensorflow.keras.regularizers import l2\n",
    "\n",
    "# Data preprocessing (ImageDataGenerator)\n",
    "from tensorflow.keras.preprocessing.image import ImageDataGenerator\n",
    "\n",
    "# Applications (pré-entraînés)\n",
    "from tensorflow.keras.applications.vgg16 import VGG16, preprocess_input\n",
    "from tensorflow.keras.applications import DenseNet121\n",
    "from tensorflow.keras.applications.densenet import preprocess_input\n",
    "\n",
    "# scikit-learn\n",
    "from sklearn.model_selection import train_test_split\n"
   ]
  },
  {
   "cell_type": "markdown",
   "metadata": {},
   "source": [
    "### II. Read Dataset"
   ]
  },
  {
   "cell_type": "markdown",
   "metadata": {},
   "source": [
    "**Directory Names Containing Training Data**"
   ]
  },
  {
   "cell_type": "code",
   "execution_count": 2,
   "metadata": {
    "execution": {
     "iopub.execute_input": "2024-01-06T17:17:16.474059Z",
     "iopub.status.busy": "2024-01-06T17:17:16.473181Z",
     "iopub.status.idle": "2024-01-06T17:17:16.523619Z",
     "shell.execute_reply": "2024-01-06T17:17:16.522515Z",
     "shell.execute_reply.started": "2024-01-06T17:17:16.474022Z"
    },
    "trusted": true
   },
   "outputs": [
    {
     "data": {
      "text/html": [
       "<div>\n",
       "<style scoped>\n",
       "    .dataframe tbody tr th:only-of-type {\n",
       "        vertical-align: middle;\n",
       "    }\n",
       "\n",
       "    .dataframe tbody tr th {\n",
       "        vertical-align: top;\n",
       "    }\n",
       "\n",
       "    .dataframe thead th {\n",
       "        text-align: right;\n",
       "    }\n",
       "</style>\n",
       "<table border=\"1\" class=\"dataframe\">\n",
       "  <thead>\n",
       "    <tr style=\"text-align: right;\">\n",
       "      <th></th>\n",
       "      <th>File Name</th>\n",
       "    </tr>\n",
       "  </thead>\n",
       "  <tbody>\n",
       "    <tr>\n",
       "      <th>0</th>\n",
       "      <td>malignant</td>\n",
       "    </tr>\n",
       "    <tr>\n",
       "      <th>1</th>\n",
       "      <td>benign</td>\n",
       "    </tr>\n",
       "    <tr>\n",
       "      <th>2</th>\n",
       "      <td>normal</td>\n",
       "    </tr>\n",
       "  </tbody>\n",
       "</table>\n",
       "</div>"
      ],
      "text/plain": [
       "   File Name\n",
       "0  malignant\n",
       "1     benign\n",
       "2     normal"
      ]
     },
     "execution_count": 2,
     "metadata": {},
     "output_type": "execute_result"
    }
   ],
   "source": [
    "# Define the path to the directory containing the images for training\n",
    "train_data = 'Dataset_BUSI_with_GT'\n",
    "\n",
    "# Create a Pandas DataFrame with a single column\n",
    "# The column is populated with the list of file/directory names in the 'train_data' directory\n",
    "pd.DataFrame(\n",
    "    os.listdir(train_data),\n",
    "    columns=['File Name']\n",
    ")"
   ]
  },
  {
   "cell_type": "markdown",
   "metadata": {},
   "source": [
    "**Directory Paths Containing Training Data**"
   ]
  },
  {
   "cell_type": "code",
   "execution_count": 3,
   "metadata": {
    "execution": {
     "iopub.execute_input": "2024-01-06T17:17:25.794101Z",
     "iopub.status.busy": "2024-01-06T17:17:25.793654Z",
     "iopub.status.idle": "2024-01-06T17:17:26.363137Z",
     "shell.execute_reply": "2024-01-06T17:17:26.361435Z",
     "shell.execute_reply.started": "2024-01-06T17:17:25.794060Z"
    },
    "trusted": true
   },
   "outputs": [
    {
     "data": {
      "text/html": [
       "<div>\n",
       "<style scoped>\n",
       "    .dataframe tbody tr th:only-of-type {\n",
       "        vertical-align: middle;\n",
       "    }\n",
       "\n",
       "    .dataframe tbody tr th {\n",
       "        vertical-align: top;\n",
       "    }\n",
       "\n",
       "    .dataframe thead th {\n",
       "        text-align: right;\n",
       "    }\n",
       "</style>\n",
       "<table border=\"1\" class=\"dataframe\">\n",
       "  <thead>\n",
       "    <tr style=\"text-align: right;\">\n",
       "      <th></th>\n",
       "      <th>Path</th>\n",
       "      <th>Label</th>\n",
       "    </tr>\n",
       "  </thead>\n",
       "  <tbody>\n",
       "    <tr>\n",
       "      <th>0</th>\n",
       "      <td>Dataset_BUSI_with_GT/benign/benign (404)_mask.png</td>\n",
       "      <td>benign</td>\n",
       "    </tr>\n",
       "    <tr>\n",
       "      <th>1</th>\n",
       "      <td>Dataset_BUSI_with_GT/malignant/malignant (27)_...</td>\n",
       "      <td>malignant</td>\n",
       "    </tr>\n",
       "    <tr>\n",
       "      <th>2</th>\n",
       "      <td>Dataset_BUSI_with_GT/benign/benign (208).png</td>\n",
       "      <td>benign</td>\n",
       "    </tr>\n",
       "    <tr>\n",
       "      <th>3</th>\n",
       "      <td>Dataset_BUSI_with_GT/malignant/malignant (96)_...</td>\n",
       "      <td>malignant</td>\n",
       "    </tr>\n",
       "    <tr>\n",
       "      <th>4</th>\n",
       "      <td>Dataset_BUSI_with_GT/benign/benign (224)_mask.png</td>\n",
       "      <td>benign</td>\n",
       "    </tr>\n",
       "    <tr>\n",
       "      <th>...</th>\n",
       "      <td>...</td>\n",
       "      <td>...</td>\n",
       "    </tr>\n",
       "    <tr>\n",
       "      <th>1573</th>\n",
       "      <td>Dataset_BUSI_with_GT/benign/benign (119).png</td>\n",
       "      <td>benign</td>\n",
       "    </tr>\n",
       "    <tr>\n",
       "      <th>1574</th>\n",
       "      <td>Dataset_BUSI_with_GT/malignant/malignant (183)...</td>\n",
       "      <td>malignant</td>\n",
       "    </tr>\n",
       "    <tr>\n",
       "      <th>1575</th>\n",
       "      <td>Dataset_BUSI_with_GT/benign/benign (145).png</td>\n",
       "      <td>benign</td>\n",
       "    </tr>\n",
       "    <tr>\n",
       "      <th>1576</th>\n",
       "      <td>Dataset_BUSI_with_GT/malignant/malignant (141)...</td>\n",
       "      <td>malignant</td>\n",
       "    </tr>\n",
       "    <tr>\n",
       "      <th>1577</th>\n",
       "      <td>Dataset_BUSI_with_GT/malignant/malignant (74).png</td>\n",
       "      <td>malignant</td>\n",
       "    </tr>\n",
       "  </tbody>\n",
       "</table>\n",
       "<p>1578 rows × 2 columns</p>\n",
       "</div>"
      ],
      "text/plain": [
       "                                                   Path      Label\n",
       "0     Dataset_BUSI_with_GT/benign/benign (404)_mask.png     benign\n",
       "1     Dataset_BUSI_with_GT/malignant/malignant (27)_...  malignant\n",
       "2          Dataset_BUSI_with_GT/benign/benign (208).png     benign\n",
       "3     Dataset_BUSI_with_GT/malignant/malignant (96)_...  malignant\n",
       "4     Dataset_BUSI_with_GT/benign/benign (224)_mask.png     benign\n",
       "...                                                 ...        ...\n",
       "1573       Dataset_BUSI_with_GT/benign/benign (119).png     benign\n",
       "1574  Dataset_BUSI_with_GT/malignant/malignant (183)...  malignant\n",
       "1575       Dataset_BUSI_with_GT/benign/benign (145).png     benign\n",
       "1576  Dataset_BUSI_with_GT/malignant/malignant (141)...  malignant\n",
       "1577  Dataset_BUSI_with_GT/malignant/malignant (74).png  malignant\n",
       "\n",
       "[1578 rows x 2 columns]"
      ]
     },
     "execution_count": 3,
     "metadata": {},
     "output_type": "execute_result"
    }
   ],
   "source": [
    "# Get a list of the file paths in the 'train_data' directory\n",
    "train_files = [i for i in glob.glob(train_data + \"/*/*\")]\n",
    "\n",
    "# Randomly shuffle the list of file paths\n",
    "np.random.shuffle(train_files)\n",
    "\n",
    "# Extract labels from the directory names of each file path\n",
    "labels = [os.path.dirname(i).split(\"/\")[-1] for i in train_files]\n",
    "\n",
    "# Combine file paths & its corresponding labels into a list of tuples\n",
    "data = zip(train_files, labels)\n",
    "\n",
    "# Create a Pandas DataFrame with 2 columns\n",
    "# \"Path\" column contains file paths, & \"Label\" column contains corresponding labels\n",
    "training_data = pd.DataFrame(data, columns=[\"Path\", \"Label\"])\n",
    "\n",
    "# Display the contents of the DataFrame\n",
    "training_data"
   ]
  },
  {
   "cell_type": "markdown",
   "metadata": {},
   "source": [
    "### III. Data Visualization"
   ]
  },
  {
   "cell_type": "code",
   "execution_count": 4,
   "metadata": {
    "execution": {
     "iopub.execute_input": "2024-01-06T17:17:29.356113Z",
     "iopub.status.busy": "2024-01-06T17:17:29.355568Z",
     "iopub.status.idle": "2024-01-06T17:17:29.705438Z",
     "shell.execute_reply": "2024-01-06T17:17:29.703876Z",
     "shell.execute_reply.started": "2024-01-06T17:17:29.356049Z"
    },
    "trusted": true
   },
   "outputs": [
    {
     "data": {
      "image/png": "[encoded data removed]",
      "text/plain": [
       "<Figure size 640x480 with 1 Axes>"
      ]
     },
     "metadata": {},
     "output_type": "display_data"
    }
   ],
   "source": [
    "# Create a countplot() using Seaborn, where x-axis represents the \"Label\" column of the training_data DataFrame\n",
    "ax = sns.countplot(x=training_data[\"Label\"])\n",
    "\n",
    "# Display count inside each bar as integers\n",
    "for p in ax.patches:\n",
    "    ax.annotate(f'{int(p.get_height())}', (p.get_x() + p.get_width() / 2., p.get_height()),\n",
    "                ha='center', va='center', xytext=(0, 5), textcoords='offset points', fontsize=8)\n",
    "\n",
    "# Rotate x-axis labels for better visibility\n",
    "plt.xticks(rotation=45)\n",
    "\n",
    "# Add a title with the total count of files\n",
    "plt.title(f'Total Files: {len(training_data)}', pad=10)\n",
    "\n",
    "# Show the plot\n",
    "plt.show()"
   ]
  },
  {
   "cell_type": "markdown",
   "metadata": {},
   "source": [
    "### IV. Collect Data Paths & Labels from Directory Structure"
   ]
  },
  {
   "cell_type": "code",
   "execution_count": 5,
   "metadata": {
    "execution": {
     "iopub.execute_input": "2024-01-06T17:17:35.221594Z",
     "iopub.status.busy": "2024-01-06T17:17:35.221175Z",
     "iopub.status.idle": "2024-01-06T17:17:35.248336Z",
     "shell.execute_reply": "2024-01-06T17:17:35.246859Z",
     "shell.execute_reply.started": "2024-01-06T17:17:35.221561Z"
    },
    "trusted": true
   },
   "outputs": [],
   "source": [
    "data_paths = []\n",
    "labels = []\n",
    "\n",
    "main_dirs = os.listdir(train_data)\n",
    "for folder_name in main_dirs:\n",
    "    folder_path = os.path.join(train_data, folder_name)\n",
    "    files = os.listdir(folder_path)\n",
    "    for file in files:\n",
    "        file_path = os.path.join(folder_path, file)\n",
    "        data_paths.append(file_path)\n",
    "        labels.append(folder_name)"
   ]
  },
  {
   "cell_type": "markdown",
   "metadata": {},
   "source": [
    "### V. Data Preprocessing"
   ]
  },
  {
   "cell_type": "code",
   "execution_count": 6,
   "metadata": {
    "execution": {
     "iopub.execute_input": "2024-01-06T17:17:38.797733Z",
     "iopub.status.busy": "2024-01-06T17:17:38.796915Z",
     "iopub.status.idle": "2024-01-06T17:17:39.868589Z",
     "shell.execute_reply": "2024-01-06T17:17:39.867256Z",
     "shell.execute_reply.started": "2024-01-06T17:17:38.797693Z"
    },
    "trusted": true
   },
   "outputs": [
    {
     "name": "stdout",
     "output_type": "stream",
     "text": [
      "Found 1262 validated image filenames belonging to 3 classes.\n",
      "Found 158 validated image filenames belonging to 3 classes.\n",
      "Found 158 validated image filenames belonging to 3 classes.\n"
     ]
    }
   ],
   "source": [
    "# Set the batch size for training\n",
    "batch_size = 16\n",
    "\n",
    "# Define the target image size for preprocessing\n",
    "image_size = (256, 256)\n",
    "\n",
    "# Specify the number of color channels in the images (3 for RGB)\n",
    "num_channels = 3\n",
    "\n",
    "# Create the image shape tuple based on the specified size and channels\n",
    "image_shape = (image_size[0], image_size[1], num_channels)\n",
    "\n",
    "# Create a Pandas Series containing file paths with the name 'Path'\n",
    "data_dirs = pd.Series(data_paths, name='Path')\n",
    "\n",
    "# Create a Pandas Series containing corresponding labels with the name 'Label'\n",
    "classes = pd.Series(labels, name='Label')\n",
    "\n",
    "def preprocess_image(img):\n",
    "    return img\n",
    "\n",
    "# Split the data into training and validation-test sets\n",
    "train_df, val_test_df = train_test_split(\n",
    "    training_data, \n",
    "    train_size=0.8, \n",
    "    shuffle=True, \n",
    "    random_state=123\n",
    ")\n",
    "\n",
    "# Further split the validation-test set into validation and test sets\n",
    "val_df, test_df = train_test_split(\n",
    "    val_test_df, \n",
    "    train_size=0.5, \n",
    "    shuffle=True, \n",
    "    random_state=123\n",
    ")\n",
    "\n",
    "# ImageDataGenerator configuration\n",
    "datagen = ImageDataGenerator(\n",
    "    preprocessing_function=preprocess_image, \n",
    "    rescale=1.0/255\n",
    ")\n",
    "\n",
    "# Convert the 'Label' column to string type\n",
    "train_df['Label'] = train_df['Label'].astype(str)\n",
    "val_df['Label'] = val_df['Label'].astype(str)\n",
    "\n",
    "# Create generators for training, validation, and testing\n",
    "train_generator = datagen.flow_from_dataframe(\n",
    "    train_df, \n",
    "    x_col='Path', \n",
    "    y_col='Label',\n",
    "    target_size=image_size, \n",
    "    class_mode='categorical',\n",
    "    color_mode='rgb', \n",
    "    shuffle=True, \n",
    "    batch_size=batch_size\n",
    ")\n",
    "\n",
    "valid_generator = datagen.flow_from_dataframe(\n",
    "    val_df, \n",
    "    x_col='Path', \n",
    "    y_col='Label',\n",
    "    target_size=image_size, \n",
    "    class_mode='categorical',\n",
    "    color_mode='rgb', \n",
    "    shuffle=True, \n",
    "    batch_size=batch_size\n",
    ")"
   ]
  },
  {
   "cell_type": "markdown",
   "metadata": {},
   "source": [
    "**Display Class Names**"
   ]
  },
  {
   "cell_type": "code",
   "execution_count": 7,
   "metadata": {
    "execution": {
     "iopub.execute_input": "2024-01-06T17:17:49.621873Z",
     "iopub.status.busy": "2024-01-06T17:17:49.621364Z",
     "iopub.status.idle": "2024-01-06T17:17:49.631509Z",
     "shell.execute_reply": "2024-01-06T17:17:49.630071Z",
     "shell.execute_reply.started": "2024-01-06T17:17:49.621831Z"
    },
    "trusted": true
   },
   "outputs": [
    {
     "data": {
      "text/plain": [
       "dict_keys(['benign', 'malignant', 'normal'])"
      ]
     },
     "execution_count": 7,
     "metadata": {},
     "output_type": "execute_result"
    }
   ],
   "source": [
    "# Get the class indices (mapping of the class names to numerical indices) from the training generator\n",
    "class_indices = train_generator.class_indices\n",
    "\n",
    "# Display the keys (class names) from the class_indices dictionary\n",
    "class_indices.keys()"
   ]
  },
  {
   "cell_type": "code",
   "execution_count": 8,
   "metadata": {
    "execution": {
     "iopub.execute_input": "2024-01-06T17:17:52.424562Z",
     "iopub.status.busy": "2024-01-06T17:17:52.423952Z",
     "iopub.status.idle": "2024-01-06T17:17:52.433138Z",
     "shell.execute_reply": "2024-01-06T17:17:52.431918Z",
     "shell.execute_reply.started": "2024-01-06T17:17:52.424520Z"
    },
    "trusted": true
   },
   "outputs": [
    {
     "name": "stdout",
     "output_type": "stream",
     "text": [
      "Labels:  ['benign', 'malignant', 'normal']\n",
      "\n",
      "Total no. of unique labels: 3\n"
     ]
    }
   ],
   "source": [
    "# Initialize an empty list to store class labels\n",
    "labels = []\n",
    "\n",
    "# Iterate through the keys (class names) in the class_indices dictionary\n",
    "for key in class_indices.keys():\n",
    "    labels.append(key)  # Append each class name to the labels list\n",
    "\n",
    "# Calculate the total no. of unique labels\n",
    "total_labels = len(labels)\n",
    "\n",
    "# Print the list of class labels and the total no. of unique labels\n",
    "print(\"Labels: \", labels)\n",
    "print(\"\\nTotal no. of unique labels:\", total_labels)"
   ]
  },
  {
   "cell_type": "markdown",
   "metadata": {},
   "source": [
    "**Visualize a Subset of Images from the Training Set**"
   ]
  },
  {
   "cell_type": "code",
   "execution_count": 9,
   "metadata": {
    "execution": {
     "iopub.execute_input": "2024-01-06T17:17:57.578298Z",
     "iopub.status.busy": "2024-01-06T17:17:57.577868Z",
     "iopub.status.idle": "2024-01-06T17:17:58.592751Z",
     "shell.execute_reply": "2024-01-06T17:17:58.591470Z",
     "shell.execute_reply.started": "2024-01-06T17:17:57.578264Z"
    },
    "trusted": true
   },
   "outputs": [
    {
     "name": "stdout",
     "output_type": "stream",
     "text": [
      "(578, 772)\n",
      "(475, 567)\n",
      "(479, 562, 3)\n",
      "(483, 560)\n",
      "(469, 568)\n",
      "(468, 555)\n",
      "(463, 562)\n",
      "(494, 554)\n"
     ]
    },
    {
     "data": {
      "image/png": "[encoded data removed]",
      "text/plain": [
       "<Figure size 1200x800 with 8 Axes>"
      ]
     },
     "metadata": {},
     "output_type": "display_data"
    }
   ],
   "source": [
    "# Set the number of rows and columns for the subplot grid\n",
    "no_of_rows = 2\n",
    "no_of_columns = 4\n",
    "\n",
    "# Create a subplot grid with the specified number of rows and columns\n",
    "fig, axes = plt.subplots(no_of_rows, no_of_columns, figsize=(12, 8))\n",
    "\n",
    "# Iterate through the rows\n",
    "for i in range(no_of_rows):\n",
    "    # Iterate through the columns\n",
    "    for j in range(no_of_columns):\n",
    "        # Calculate the index for accessing the data\n",
    "        index = i * no_of_columns + j\n",
    "\n",
    "        # Check if the index is within the bounds of the data\n",
    "        if index < len(training_data):\n",
    "\n",
    "            # Open the image using the PIL library\n",
    "            im = Image.open(training_data.iloc[index]['Path'])\n",
    "\n",
    "            # Convert the PIL image to a NumPy array\n",
    "            img = np.array(im)\n",
    "\n",
    "            # Print the shape of the image array\n",
    "            print(img.shape)\n",
    "\n",
    "            # Display the image on the subplot at position (i, j)\n",
    "            axes[i, j].imshow(img)\n",
    "\n",
    "            # Turn off axis labels for better visualization\n",
    "            axes[i, j].axis('off')\n",
    "\n",
    "            # Get the label for the current image and display it as text\n",
    "            label = training_data.iloc[index]['Label']\n",
    "            axes[i, j].text(0.5, -0.1, label, ha='center', transform=axes[i, j].transAxes)\n",
    "\n",
    "# Show the entire subplot grid\n",
    "plt.show()"
   ]
  },
  {
   "cell_type": "markdown",
   "metadata": {},
   "source": [
    "### VI. Build Model"
   ]
  },
  {
   "cell_type": "code",
   "execution_count": 10,
   "metadata": {
    "execution": {
     "iopub.execute_input": "2024-01-06T09:08:46.657260Z",
     "iopub.status.busy": "2024-01-06T09:08:46.656397Z",
     "iopub.status.idle": "2024-01-06T09:08:53.183975Z",
     "shell.execute_reply": "2024-01-06T09:08:53.182914Z",
     "shell.execute_reply.started": "2024-01-06T09:08:46.657225Z"
    },
    "trusted": true
   },
   "outputs": [
    {
     "name": "stderr",
     "output_type": "stream",
     "text": [
      "2025-08-22 15:11:44.136992: E external/local_xla/xla/stream_executor/cuda/cuda_platform.cc:51] failed call to cuInit: INTERNAL: CUDA error: Failed call to cuInit: CUDA_ERROR_NO_DEVICE: no CUDA-capable device is detected\n",
      "2025-08-22 15:11:44.137009: I external/local_xla/xla/stream_executor/cuda/cuda_diagnostics.cc:160] env: CUDA_VISIBLE_DEVICES=\"-1\"\n",
      "2025-08-22 15:11:44.137012: I external/local_xla/xla/stream_executor/cuda/cuda_diagnostics.cc:163] CUDA_VISIBLE_DEVICES is set to -1 - this hides all GPUs from CUDA\n",
      "2025-08-22 15:11:44.137014: I external/local_xla/xla/stream_executor/cuda/cuda_diagnostics.cc:171] verbose logging is disabled. Rerun with verbose logging (usually --v=1 or --vmodule=cuda_diagnostics=1) to get more diagnostic output from this module\n",
      "2025-08-22 15:11:44.137016: I external/local_xla/xla/stream_executor/cuda/cuda_diagnostics.cc:176] retrieving CUDA diagnostic information for host: sdu-133749\n",
      "2025-08-22 15:11:44.137018: I external/local_xla/xla/stream_executor/cuda/cuda_diagnostics.cc:183] hostname: sdu-133749\n",
      "2025-08-22 15:11:44.137119: I external/local_xla/xla/stream_executor/cuda/cuda_diagnostics.cc:190] libcuda reported version is: 535.247.1\n",
      "2025-08-22 15:11:44.137127: I external/local_xla/xla/stream_executor/cuda/cuda_diagnostics.cc:194] kernel reported version is: 535.230.2\n",
      "2025-08-22 15:11:44.137128: E external/local_xla/xla/stream_executor/cuda/cuda_diagnostics.cc:287] kernel version 535.230.2 does not match DSO version 535.247.1 -- cannot find working devices in this configuration\n"
     ]
    },
    {
     "data": {
      "text/html": [
       "<pre style=\"white-space:pre;overflow-x:auto;line-height:normal;font-family:Menlo,'DejaVu Sans Mono',consolas,'Courier New',monospace\"><span style=\"font-weight: bold\">Model: \"sequential\"</span>\n",
       "</pre>\n"
      ],
      "text/plain": [
       "\u001b[1mModel: \"sequential\"\u001b[0m\n"
      ]
     },
     "metadata": {},
     "output_type": "display_data"
    },
    {
     "data": {
      "text/html": [
       "<pre style=\"white-space:pre;overflow-x:auto;line-height:normal;font-family:Menlo,'DejaVu Sans Mono',consolas,'Courier New',monospace\">┏━━━━━━━━━━━━━━━━━━━━━━━━━━━━━━━━━┳━━━━━━━━━━━━━━━━━━━━━━━━┳━━━━━━━━━━━━━━━┓\n",
       "┃<span style=\"font-weight: bold\"> Layer (type)                    </span>┃<span style=\"font-weight: bold\"> Output Shape           </span>┃<span style=\"font-weight: bold\">       Param # </span>┃\n",
       "┡━━━━━━━━━━━━━━━━━━━━━━━━━━━━━━━━━╇━━━━━━━━━━━━━━━━━━━━━━━━╇━━━━━━━━━━━━━━━┩\n",
       "│ densenet121 (<span style=\"color: #0087ff; text-decoration-color: #0087ff\">Functional</span>)        │ (<span style=\"color: #00d7ff; text-decoration-color: #00d7ff\">None</span>, <span style=\"color: #00af00; text-decoration-color: #00af00\">8</span>, <span style=\"color: #00af00; text-decoration-color: #00af00\">8</span>, <span style=\"color: #00af00; text-decoration-color: #00af00\">1024</span>)     │     <span style=\"color: #00af00; text-decoration-color: #00af00\">7,037,504</span> │\n",
       "├─────────────────────────────────┼────────────────────────┼───────────────┤\n",
       "│ flatten (<span style=\"color: #0087ff; text-decoration-color: #0087ff\">Flatten</span>)               │ (<span style=\"color: #00d7ff; text-decoration-color: #00d7ff\">None</span>, <span style=\"color: #00af00; text-decoration-color: #00af00\">65536</span>)          │             <span style=\"color: #00af00; text-decoration-color: #00af00\">0</span> │\n",
       "├─────────────────────────────────┼────────────────────────┼───────────────┤\n",
       "│ dense (<span style=\"color: #0087ff; text-decoration-color: #0087ff\">Dense</span>)                   │ (<span style=\"color: #00d7ff; text-decoration-color: #00d7ff\">None</span>, <span style=\"color: #00af00; text-decoration-color: #00af00\">1024</span>)           │    <span style=\"color: #00af00; text-decoration-color: #00af00\">67,109,888</span> │\n",
       "├─────────────────────────────────┼────────────────────────┼───────────────┤\n",
       "│ dropout (<span style=\"color: #0087ff; text-decoration-color: #0087ff\">Dropout</span>)               │ (<span style=\"color: #00d7ff; text-decoration-color: #00d7ff\">None</span>, <span style=\"color: #00af00; text-decoration-color: #00af00\">1024</span>)           │             <span style=\"color: #00af00; text-decoration-color: #00af00\">0</span> │\n",
       "├─────────────────────────────────┼────────────────────────┼───────────────┤\n",
       "│ dense_1 (<span style=\"color: #0087ff; text-decoration-color: #0087ff\">Dense</span>)                 │ (<span style=\"color: #00d7ff; text-decoration-color: #00d7ff\">None</span>, <span style=\"color: #00af00; text-decoration-color: #00af00\">1024</span>)           │     <span style=\"color: #00af00; text-decoration-color: #00af00\">1,049,600</span> │\n",
       "├─────────────────────────────────┼────────────────────────┼───────────────┤\n",
       "│ dropout_1 (<span style=\"color: #0087ff; text-decoration-color: #0087ff\">Dropout</span>)             │ (<span style=\"color: #00d7ff; text-decoration-color: #00d7ff\">None</span>, <span style=\"color: #00af00; text-decoration-color: #00af00\">1024</span>)           │             <span style=\"color: #00af00; text-decoration-color: #00af00\">0</span> │\n",
       "├─────────────────────────────────┼────────────────────────┼───────────────┤\n",
       "│ dense_2 (<span style=\"color: #0087ff; text-decoration-color: #0087ff\">Dense</span>)                 │ (<span style=\"color: #00d7ff; text-decoration-color: #00d7ff\">None</span>, <span style=\"color: #00af00; text-decoration-color: #00af00\">512</span>)            │       <span style=\"color: #00af00; text-decoration-color: #00af00\">524,800</span> │\n",
       "├─────────────────────────────────┼────────────────────────┼───────────────┤\n",
       "│ dense_3 (<span style=\"color: #0087ff; text-decoration-color: #0087ff\">Dense</span>)                 │ (<span style=\"color: #00d7ff; text-decoration-color: #00d7ff\">None</span>, <span style=\"color: #00af00; text-decoration-color: #00af00\">128</span>)            │        <span style=\"color: #00af00; text-decoration-color: #00af00\">65,664</span> │\n",
       "├─────────────────────────────────┼────────────────────────┼───────────────┤\n",
       "│ dense_4 (<span style=\"color: #0087ff; text-decoration-color: #0087ff\">Dense</span>)                 │ (<span style=\"color: #00d7ff; text-decoration-color: #00d7ff\">None</span>, <span style=\"color: #00af00; text-decoration-color: #00af00\">3</span>)              │           <span style=\"color: #00af00; text-decoration-color: #00af00\">387</span> │\n",
       "└─────────────────────────────────┴────────────────────────┴───────────────┘\n",
       "</pre>\n"
      ],
      "text/plain": [
       "┏━━━━━━━━━━━━━━━━━━━━━━━━━━━━━━━━━┳━━━━━━━━━━━━━━━━━━━━━━━━┳━━━━━━━━━━━━━━━┓\n",
       "┃\u001b[1m \u001b[0m\u001b[1mLayer (type)                   \u001b[0m\u001b[1m \u001b[0m┃\u001b[1m \u001b[0m\u001b[1mOutput Shape          \u001b[0m\u001b[1m \u001b[0m┃\u001b[1m \u001b[0m\u001b[1m      Param #\u001b[0m\u001b[1m \u001b[0m┃\n",
       "┡━━━━━━━━━━━━━━━━━━━━━━━━━━━━━━━━━╇━━━━━━━━━━━━━━━━━━━━━━━━╇━━━━━━━━━━━━━━━┩\n",
       "│ densenet121 (\u001b[38;5;33mFunctional\u001b[0m)        │ (\u001b[38;5;45mNone\u001b[0m, \u001b[38;5;34m8\u001b[0m, \u001b[38;5;34m8\u001b[0m, \u001b[38;5;34m1024\u001b[0m)     │     \u001b[38;5;34m7,037,504\u001b[0m │\n",
       "├─────────────────────────────────┼────────────────────────┼───────────────┤\n",
       "│ flatten (\u001b[38;5;33mFlatten\u001b[0m)               │ (\u001b[38;5;45mNone\u001b[0m, \u001b[38;5;34m65536\u001b[0m)          │             \u001b[38;5;34m0\u001b[0m │\n",
       "├─────────────────────────────────┼────────────────────────┼───────────────┤\n",
       "│ dense (\u001b[38;5;33mDense\u001b[0m)                   │ (\u001b[38;5;45mNone\u001b[0m, \u001b[38;5;34m1024\u001b[0m)           │    \u001b[38;5;34m67,109,888\u001b[0m │\n",
       "├─────────────────────────────────┼────────────────────────┼───────────────┤\n",
       "│ dropout (\u001b[38;5;33mDropout\u001b[0m)               │ (\u001b[38;5;45mNone\u001b[0m, \u001b[38;5;34m1024\u001b[0m)           │             \u001b[38;5;34m0\u001b[0m │\n",
       "├─────────────────────────────────┼────────────────────────┼───────────────┤\n",
       "│ dense_1 (\u001b[38;5;33mDense\u001b[0m)                 │ (\u001b[38;5;45mNone\u001b[0m, \u001b[38;5;34m1024\u001b[0m)           │     \u001b[38;5;34m1,049,600\u001b[0m │\n",
       "├─────────────────────────────────┼────────────────────────┼───────────────┤\n",
       "│ dropout_1 (\u001b[38;5;33mDropout\u001b[0m)             │ (\u001b[38;5;45mNone\u001b[0m, \u001b[38;5;34m1024\u001b[0m)           │             \u001b[38;5;34m0\u001b[0m │\n",
       "├─────────────────────────────────┼────────────────────────┼───────────────┤\n",
       "│ dense_2 (\u001b[38;5;33mDense\u001b[0m)                 │ (\u001b[38;5;45mNone\u001b[0m, \u001b[38;5;34m512\u001b[0m)            │       \u001b[38;5;34m524,800\u001b[0m │\n",
       "├─────────────────────────────────┼────────────────────────┼───────────────┤\n",
       "│ dense_3 (\u001b[38;5;33mDense\u001b[0m)                 │ (\u001b[38;5;45mNone\u001b[0m, \u001b[38;5;34m128\u001b[0m)            │        \u001b[38;5;34m65,664\u001b[0m │\n",
       "├─────────────────────────────────┼────────────────────────┼───────────────┤\n",
       "│ dense_4 (\u001b[38;5;33mDense\u001b[0m)                 │ (\u001b[38;5;45mNone\u001b[0m, \u001b[38;5;34m3\u001b[0m)              │           \u001b[38;5;34m387\u001b[0m │\n",
       "└─────────────────────────────────┴────────────────────────┴───────────────┘\n"
      ]
     },
     "metadata": {},
     "output_type": "display_data"
    },
    {
     "data": {
      "text/html": [
       "<pre style=\"white-space:pre;overflow-x:auto;line-height:normal;font-family:Menlo,'DejaVu Sans Mono',consolas,'Courier New',monospace\"><span style=\"font-weight: bold\"> Total params: </span><span style=\"color: #00af00; text-decoration-color: #00af00\">75,787,843</span> (289.11 MB)\n",
       "</pre>\n"
      ],
      "text/plain": [
       "\u001b[1m Total params: \u001b[0m\u001b[38;5;34m75,787,843\u001b[0m (289.11 MB)\n"
      ]
     },
     "metadata": {},
     "output_type": "display_data"
    },
    {
     "data": {
      "text/html": [
       "<pre style=\"white-space:pre;overflow-x:auto;line-height:normal;font-family:Menlo,'DejaVu Sans Mono',consolas,'Courier New',monospace\"><span style=\"font-weight: bold\"> Trainable params: </span><span style=\"color: #00af00; text-decoration-color: #00af00\">68,750,339</span> (262.26 MB)\n",
       "</pre>\n"
      ],
      "text/plain": [
       "\u001b[1m Trainable params: \u001b[0m\u001b[38;5;34m68,750,339\u001b[0m (262.26 MB)\n"
      ]
     },
     "metadata": {},
     "output_type": "display_data"
    },
    {
     "data": {
      "text/html": [
       "<pre style=\"white-space:pre;overflow-x:auto;line-height:normal;font-family:Menlo,'DejaVu Sans Mono',consolas,'Courier New',monospace\"><span style=\"font-weight: bold\"> Non-trainable params: </span><span style=\"color: #00af00; text-decoration-color: #00af00\">7,037,504</span> (26.85 MB)\n",
       "</pre>\n"
      ],
      "text/plain": [
       "\u001b[1m Non-trainable params: \u001b[0m\u001b[38;5;34m7,037,504\u001b[0m (26.85 MB)\n"
      ]
     },
     "metadata": {},
     "output_type": "display_data"
    }
   ],
   "source": [
    "# Load DenseNet-121 with pre-trained weights\n",
    "base_model = DenseNet121(\n",
    "    weights='imagenet',\n",
    "    include_top=False, \n",
    "    input_shape=(256, 256, 3)\n",
    ")\n",
    "\n",
    "# Freeze the layers of the pre-trained model\n",
    "for layer in base_model.layers:\n",
    "    layer.trainable = False\n",
    "\n",
    "# Create model\n",
    "model = Sequential()\n",
    "\n",
    "# Add the pre-trained DenseNet-121 base model\n",
    "model.add(base_model)\n",
    "\n",
    "# Flatten the output of the base model\n",
    "model.add(Flatten())\n",
    "\n",
    "# Add fully connected layers with dropout for regularization\n",
    "model.add(Dense(1024, activation='relu'))\n",
    "model.add(Dropout(0.5))\n",
    "model.add(Dense(1024, activation='relu'))\n",
    "model.add(Dropout(0.3))\n",
    "model.add(Dense(512, activation='relu'))\n",
    "\n",
    "# Additional layers for classification\n",
    "model.add(Dense(128, activation='relu'))\n",
    "model.add(Dense(3, activation='softmax'))\n",
    "\n",
    "# Display the summary of the model architecture\n",
    "model.summary()"
   ]
  },
  {
   "cell_type": "markdown",
   "metadata": {},
   "source": [
    "**Visualize the Neural Network Architecture**"
   ]
  },
  {
   "cell_type": "code",
   "execution_count": 11,
   "metadata": {
    "execution": {
     "iopub.execute_input": "2024-01-06T09:11:14.620899Z",
     "iopub.status.busy": "2024-01-06T09:11:14.620404Z",
     "iopub.status.idle": "2024-01-06T09:11:14.715457Z",
     "shell.execute_reply": "2024-01-06T09:11:14.713822Z",
     "shell.execute_reply.started": "2024-01-06T09:11:14.620857Z"
    },
    "trusted": true
   },
   "outputs": [],
   "source": [
    "# Specify the file path for saving the visualization image\n",
    "#model_visualization_path = \"/kaggle/working/nn_architecture.png\"\n",
    "\n",
    "# Plot the model and save the visualization image\n",
    "#plot_model(model, to_file=model_visualization_path, show_shapes=True, show_layer_names=True)\n",
    "\n",
    "# Display the visualization image\n",
    "#IPImage(filename=model_visualization_path)"
   ]
  },
  {
   "cell_type": "markdown",
   "metadata": {},
   "source": [
    "**Create Model Checkpoint Callback to Save Best Model**"
   ]
  },
  {
   "cell_type": "code",
   "execution_count": 12,
   "metadata": {
    "execution": {
     "iopub.execute_input": "2024-01-06T09:11:30.598875Z",
     "iopub.status.busy": "2024-01-06T09:11:30.598392Z",
     "iopub.status.idle": "2024-01-06T09:11:30.604013Z",
     "shell.execute_reply": "2024-01-06T09:11:30.603054Z",
     "shell.execute_reply.started": "2024-01-06T09:11:30.598836Z"
    },
    "trusted": true
   },
   "outputs": [],
   "source": [
    "# Define the path to save the best model checkpoint\n",
    "checkpoint_path = \"model.h5\"\n",
    "\n",
    "# Create a ModelCheckpoint callback\n",
    "# This callback saves the model when validation accuracy improves\n",
    "checkpoint = ModelCheckpoint(\n",
    "    checkpoint_path,\n",
    "    monitor='val_accuracy',  # Monitor validation accuracy\n",
    "    save_best_only=True,     # Save only the best model\n",
    "    mode='max',              # Save based on the maximum validation accuracy\n",
    "    verbose=1                # Display progress information\n",
    ")                "
   ]
  },
  {
   "cell_type": "markdown",
   "metadata": {},
   "source": [
    "### VII. Compile Model"
   ]
  },
  {
   "cell_type": "code",
   "execution_count": 13,
   "metadata": {
    "execution": {
     "iopub.execute_input": "2024-01-06T09:11:33.567611Z",
     "iopub.status.busy": "2024-01-06T09:11:33.567130Z",
     "iopub.status.idle": "2024-01-06T09:11:33.599754Z",
     "shell.execute_reply": "2024-01-06T09:11:33.598329Z",
     "shell.execute_reply.started": "2024-01-06T09:11:33.567577Z"
    },
    "trusted": true
   },
   "outputs": [],
   "source": [
    "# Compile the model with the Adam optimizer, categorical crossentropy loss, and accuracy metric\n",
    "model.compile(\n",
    "    optimizer='adam',\n",
    "    loss='categorical_crossentropy',  # Categorical crossentropy loss for multi-class classification\n",
    "    metrics=['accuracy']              # Monitor accuracy during training\n",
    ")              "
   ]
  },
  {
   "cell_type": "code",
   "execution_count": 14,
   "metadata": {},
   "outputs": [
    {
     "name": "stdout",
     "output_type": "stream",
     "text": [
      "TensorFlow version: 2.20.0\n",
      "GPU available: []\n"
     ]
    }
   ],
   "source": [
    "import tensorflow as tf\n",
    "\n",
    "print(\"TensorFlow version:\", tf.__version__)\n",
    "print(\"GPU available:\", tf.config.list_physical_devices(\"GPU\"))\n",
    "\n"
   ]
  },
  {
   "cell_type": "markdown",
   "metadata": {},
   "source": [
    "### VIII. Train Model"
   ]
  },
  {
   "cell_type": "code",
   "execution_count": 15,
   "metadata": {
    "execution": {
     "iopub.execute_input": "2024-01-06T09:11:46.551326Z",
     "iopub.status.busy": "2024-01-06T09:11:46.550855Z",
     "iopub.status.idle": "2024-01-06T09:35:17.703223Z",
     "shell.execute_reply": "2024-01-06T09:35:17.701968Z",
     "shell.execute_reply.started": "2024-01-06T09:11:46.551280Z"
    },
    "trusted": true
   },
   "outputs": [
    {
     "name": "stdout",
     "output_type": "stream",
     "text": [
      "Epoch 1/10\n"
     ]
    },
    {
     "name": "stderr",
     "output_type": "stream",
     "text": [
      "/home/naeem/miniconda3/envs/biogpt/lib/python3.11/site-packages/keras/src/trainers/data_adapters/py_dataset_adapter.py:121: UserWarning: Your `PyDataset` class should call `super().__init__(**kwargs)` in its constructor. `**kwargs` can include `workers`, `use_multiprocessing`, `max_queue_size`. Do not pass these arguments to `fit()`, as they will be ignored.\n",
      "  self._warn_if_super_not_called()\n"
     ]
    },
    {
     "name": "stdout",
     "output_type": "stream",
     "text": [
      "\u001b[1m78/78\u001b[0m \u001b[32m━━━━━━━━━━━━━━━━━━━━\u001b[0m\u001b[37m\u001b[0m \u001b[1m0s\u001b[0m 461ms/step - accuracy: 0.5036 - loss: 6.5258\n",
      "Epoch 1: val_accuracy improved from None to 0.75694, saving model to model.h5\n"
     ]
    },
    {
     "name": "stderr",
     "output_type": "stream",
     "text": [
      "WARNING:absl:You are saving your model as an HDF5 file via `model.save()` or `keras.saving.save_model(model)`. This file format is considered legacy. We recommend using instead the native Keras format, e.g. `model.save('my_model.keras')` or `keras.saving.save_model(model, 'my_model.keras')`. \n"
     ]
    },
    {
     "name": "stdout",
     "output_type": "stream",
     "text": [
      "\u001b[1m78/78\u001b[0m \u001b[32m━━━━━━━━━━━━━━━━━━━━\u001b[0m\u001b[37m\u001b[0m \u001b[1m46s\u001b[0m 529ms/step - accuracy: 0.6148 - loss: 3.3393 - val_accuracy: 0.7569 - val_loss: 0.6407\n",
      "Epoch 2/10\n",
      "\u001b[1m 1/78\u001b[0m \u001b[37m━━━━━━━━━━━━━━━━━━━━\u001b[0m \u001b[1m36s\u001b[0m 478ms/step - accuracy: 0.7500 - loss: 0.9668"
     ]
    },
    {
     "name": "stderr",
     "output_type": "stream",
     "text": [
      "/home/naeem/miniconda3/envs/biogpt/lib/python3.11/site-packages/keras/src/trainers/epoch_iterator.py:116: UserWarning: Your input ran out of data; interrupting training. Make sure that your dataset or generator can generate at least `steps_per_epoch * epochs` batches. You may need to use the `.repeat()` function when building your dataset.\n",
      "  self._interrupted_warning()\n"
     ]
    },
    {
     "name": "stdout",
     "output_type": "stream",
     "text": [
      "\n",
      "Epoch 2: val_accuracy improved from 0.75694 to 0.79167, saving model to model.h5\n"
     ]
    },
    {
     "name": "stderr",
     "output_type": "stream",
     "text": [
      "WARNING:absl:You are saving your model as an HDF5 file via `model.save()` or `keras.saving.save_model(model)`. This file format is considered legacy. We recommend using instead the native Keras format, e.g. `model.save('my_model.keras')` or `keras.saving.save_model(model, 'my_model.keras')`. \n"
     ]
    },
    {
     "name": "stdout",
     "output_type": "stream",
     "text": [
      "\u001b[1m78/78\u001b[0m \u001b[32m━━━━━━━━━━━━━━━━━━━━\u001b[0m\u001b[37m\u001b[0m \u001b[1m4s\u001b[0m 47ms/step - accuracy: 0.7500 - loss: 0.9668 - val_accuracy: 0.7917 - val_loss: 0.5364\n",
      "Epoch 3/10\n",
      "\u001b[1m78/78\u001b[0m \u001b[32m━━━━━━━━━━━━━━━━━━━━\u001b[0m\u001b[37m\u001b[0m \u001b[1m0s\u001b[0m 461ms/step - accuracy: 0.7597 - loss: 0.6402\n",
      "Epoch 3: val_accuracy improved from 0.79167 to 0.80556, saving model to model.h5\n"
     ]
    },
    {
     "name": "stderr",
     "output_type": "stream",
     "text": [
      "WARNING:absl:You are saving your model as an HDF5 file via `model.save()` or `keras.saving.save_model(model)`. This file format is considered legacy. We recommend using instead the native Keras format, e.g. `model.save('my_model.keras')` or `keras.saving.save_model(model, 'my_model.keras')`. \n"
     ]
    },
    {
     "name": "stdout",
     "output_type": "stream",
     "text": [
      "\u001b[1m78/78\u001b[0m \u001b[32m━━━━━━━━━━━━━━━━━━━━\u001b[0m\u001b[37m\u001b[0m \u001b[1m39s\u001b[0m 502ms/step - accuracy: 0.7681 - loss: 0.6059 - val_accuracy: 0.8056 - val_loss: 0.4889\n",
      "Epoch 4/10\n",
      "\u001b[1m 1/78\u001b[0m \u001b[37m━━━━━━━━━━━━━━━━━━━━\u001b[0m \u001b[1m35s\u001b[0m 457ms/step - accuracy: 0.8750 - loss: 0.3100\n",
      "Epoch 4: val_accuracy improved from 0.80556 to 0.81944, saving model to model.h5\n"
     ]
    },
    {
     "name": "stderr",
     "output_type": "stream",
     "text": [
      "WARNING:absl:You are saving your model as an HDF5 file via `model.save()` or `keras.saving.save_model(model)`. This file format is considered legacy. We recommend using instead the native Keras format, e.g. `model.save('my_model.keras')` or `keras.saving.save_model(model, 'my_model.keras')`. \n"
     ]
    },
    {
     "name": "stdout",
     "output_type": "stream",
     "text": [
      "\u001b[1m78/78\u001b[0m \u001b[32m━━━━━━━━━━━━━━━━━━━━\u001b[0m\u001b[37m\u001b[0m \u001b[1m4s\u001b[0m 46ms/step - accuracy: 0.8750 - loss: 0.3100 - val_accuracy: 0.8194 - val_loss: 0.5508\n",
      "Epoch 5/10\n",
      "\u001b[1m78/78\u001b[0m \u001b[32m━━━━━━━━━━━━━━━━━━━━\u001b[0m\u001b[37m\u001b[0m \u001b[1m0s\u001b[0m 453ms/step - accuracy: 0.8522 - loss: 0.4054\n",
      "Epoch 5: val_accuracy did not improve from 0.81944\n",
      "\u001b[1m78/78\u001b[0m \u001b[32m━━━━━━━━━━━━━━━━━━━━\u001b[0m\u001b[37m\u001b[0m \u001b[1m38s\u001b[0m 486ms/step - accuracy: 0.8427 - loss: 0.4175 - val_accuracy: 0.8194 - val_loss: 0.3604\n",
      "Epoch 6/10\n",
      "\u001b[1m 1/78\u001b[0m \u001b[37m━━━━━━━━━━━━━━━━━━━━\u001b[0m \u001b[1m37s\u001b[0m 493ms/step - accuracy: 0.8750 - loss: 0.1813\n",
      "Epoch 6: val_accuracy improved from 0.81944 to 0.83333, saving model to model.h5\n"
     ]
    },
    {
     "name": "stderr",
     "output_type": "stream",
     "text": [
      "WARNING:absl:You are saving your model as an HDF5 file via `model.save()` or `keras.saving.save_model(model)`. This file format is considered legacy. We recommend using instead the native Keras format, e.g. `model.save('my_model.keras')` or `keras.saving.save_model(model, 'my_model.keras')`. \n"
     ]
    },
    {
     "name": "stdout",
     "output_type": "stream",
     "text": [
      "\u001b[1m78/78\u001b[0m \u001b[32m━━━━━━━━━━━━━━━━━━━━\u001b[0m\u001b[37m\u001b[0m \u001b[1m4s\u001b[0m 45ms/step - accuracy: 0.8750 - loss: 0.1813 - val_accuracy: 0.8333 - val_loss: 0.3401\n",
      "Epoch 7/10\n",
      "\u001b[1m78/78\u001b[0m \u001b[32m━━━━━━━━━━━━━━━━━━━━\u001b[0m\u001b[37m\u001b[0m \u001b[1m0s\u001b[0m 455ms/step - accuracy: 0.8619 - loss: 0.3626\n",
      "Epoch 7: val_accuracy improved from 0.83333 to 0.84722, saving model to model.h5\n"
     ]
    },
    {
     "name": "stderr",
     "output_type": "stream",
     "text": [
      "WARNING:absl:You are saving your model as an HDF5 file via `model.save()` or `keras.saving.save_model(model)`. This file format is considered legacy. We recommend using instead the native Keras format, e.g. `model.save('my_model.keras')` or `keras.saving.save_model(model, 'my_model.keras')`. \n"
     ]
    },
    {
     "name": "stdout",
     "output_type": "stream",
     "text": [
      "\u001b[1m78/78\u001b[0m \u001b[32m━━━━━━━━━━━━━━━━━━━━\u001b[0m\u001b[37m\u001b[0m \u001b[1m39s\u001b[0m 497ms/step - accuracy: 0.8692 - loss: 0.3316 - val_accuracy: 0.8472 - val_loss: 0.3319\n",
      "Epoch 8/10\n",
      "\u001b[1m 1/78\u001b[0m \u001b[37m━━━━━━━━━━━━━━━━━━━━\u001b[0m \u001b[1m35s\u001b[0m 466ms/step - accuracy: 0.8125 - loss: 0.4062\n",
      "Epoch 8: val_accuracy did not improve from 0.84722\n",
      "\u001b[1m78/78\u001b[0m \u001b[32m━━━━━━━━━━━━━━━━━━━━\u001b[0m\u001b[37m\u001b[0m \u001b[1m3s\u001b[0m 34ms/step - accuracy: 0.8125 - loss: 0.4062 - val_accuracy: 0.8333 - val_loss: 0.3542\n",
      "Epoch 9/10\n",
      "\u001b[1m78/78\u001b[0m \u001b[32m━━━━━━━━━━━━━━━━━━━━\u001b[0m\u001b[37m\u001b[0m \u001b[1m0s\u001b[0m 452ms/step - accuracy: 0.8711 - loss: 0.3236\n",
      "Epoch 9: val_accuracy did not improve from 0.84722\n",
      "\u001b[1m78/78\u001b[0m \u001b[32m━━━━━━━━━━━━━━━━━━━━\u001b[0m\u001b[37m\u001b[0m \u001b[1m38s\u001b[0m 485ms/step - accuracy: 0.8804 - loss: 0.2902 - val_accuracy: 0.8472 - val_loss: 0.3729\n",
      "Epoch 10/10\n",
      "\u001b[1m 1/78\u001b[0m \u001b[37m━━━━━━━━━━━━━━━━━━━━\u001b[0m \u001b[1m37s\u001b[0m 487ms/step - accuracy: 0.8125 - loss: 0.3317\n",
      "Epoch 10: val_accuracy improved from 0.84722 to 0.86111, saving model to model.h5\n"
     ]
    },
    {
     "name": "stderr",
     "output_type": "stream",
     "text": [
      "WARNING:absl:You are saving your model as an HDF5 file via `model.save()` or `keras.saving.save_model(model)`. This file format is considered legacy. We recommend using instead the native Keras format, e.g. `model.save('my_model.keras')` or `keras.saving.save_model(model, 'my_model.keras')`. \n"
     ]
    },
    {
     "name": "stdout",
     "output_type": "stream",
     "text": [
      "\u001b[1m78/78\u001b[0m \u001b[32m━━━━━━━━━━━━━━━━━━━━\u001b[0m\u001b[37m\u001b[0m \u001b[1m4s\u001b[0m 44ms/step - accuracy: 0.8125 - loss: 0.3317 - val_accuracy: 0.8611 - val_loss: 0.3424\n"
     ]
    }
   ],
   "source": [
    "# Train the model using the fit() method\n",
    "history = model.fit(\n",
    "    train_generator,                                   # Training data generator\n",
    "    steps_per_epoch=train_generator.samples // train_generator.batch_size,  # Number of steps per epoch\n",
    "    epochs=10,                                         # Number of training epochs\n",
    "    validation_data=valid_generator,                   # Validation data generator\n",
    "    validation_steps=valid_generator.samples // valid_generator.batch_size,  # Number of validation steps\n",
    "    callbacks=[checkpoint]                             # List of callbacks, including the ModelCheckpoint\n",
    ")"
   ]
  },
  {
   "cell_type": "markdown",
   "metadata": {},
   "source": [
    "**Display Training History**"
   ]
  },
  {
   "cell_type": "code",
   "execution_count": 16,
   "metadata": {
    "execution": {
     "iopub.execute_input": "2024-01-06T09:35:26.881515Z",
     "iopub.status.busy": "2024-01-06T09:35:26.880719Z",
     "iopub.status.idle": "2024-01-06T09:35:26.897121Z",
     "shell.execute_reply": "2024-01-06T09:35:26.896280Z",
     "shell.execute_reply.started": "2024-01-06T09:35:26.881483Z"
    },
    "trusted": true
   },
   "outputs": [
    {
     "data": {
      "text/html": [
       "<div>\n",
       "<style scoped>\n",
       "    .dataframe tbody tr th:only-of-type {\n",
       "        vertical-align: middle;\n",
       "    }\n",
       "\n",
       "    .dataframe tbody tr th {\n",
       "        vertical-align: top;\n",
       "    }\n",
       "\n",
       "    .dataframe thead th {\n",
       "        text-align: right;\n",
       "    }\n",
       "</style>\n",
       "<table border=\"1\" class=\"dataframe\">\n",
       "  <thead>\n",
       "    <tr style=\"text-align: right;\">\n",
       "      <th></th>\n",
       "      <th>Epoch</th>\n",
       "      <th>loss</th>\n",
       "      <th>accuracy</th>\n",
       "      <th>val_loss</th>\n",
       "      <th>val_accuracy</th>\n",
       "    </tr>\n",
       "  </thead>\n",
       "  <tbody>\n",
       "    <tr>\n",
       "      <th>0</th>\n",
       "      <td>1</td>\n",
       "      <td>3.339295</td>\n",
       "      <td>0.614767</td>\n",
       "      <td>0.640691</td>\n",
       "      <td>0.756944</td>\n",
       "    </tr>\n",
       "    <tr>\n",
       "      <th>1</th>\n",
       "      <td>2</td>\n",
       "      <td>0.966752</td>\n",
       "      <td>0.750000</td>\n",
       "      <td>0.536383</td>\n",
       "      <td>0.791667</td>\n",
       "    </tr>\n",
       "    <tr>\n",
       "      <th>2</th>\n",
       "      <td>3</td>\n",
       "      <td>0.605855</td>\n",
       "      <td>0.768058</td>\n",
       "      <td>0.488857</td>\n",
       "      <td>0.805556</td>\n",
       "    </tr>\n",
       "    <tr>\n",
       "      <th>3</th>\n",
       "      <td>4</td>\n",
       "      <td>0.309955</td>\n",
       "      <td>0.875000</td>\n",
       "      <td>0.550839</td>\n",
       "      <td>0.819444</td>\n",
       "    </tr>\n",
       "    <tr>\n",
       "      <th>4</th>\n",
       "      <td>5</td>\n",
       "      <td>0.417494</td>\n",
       "      <td>0.842697</td>\n",
       "      <td>0.360398</td>\n",
       "      <td>0.819444</td>\n",
       "    </tr>\n",
       "    <tr>\n",
       "      <th>5</th>\n",
       "      <td>6</td>\n",
       "      <td>0.181286</td>\n",
       "      <td>0.875000</td>\n",
       "      <td>0.340146</td>\n",
       "      <td>0.833333</td>\n",
       "    </tr>\n",
       "    <tr>\n",
       "      <th>6</th>\n",
       "      <td>7</td>\n",
       "      <td>0.331610</td>\n",
       "      <td>0.869181</td>\n",
       "      <td>0.331936</td>\n",
       "      <td>0.847222</td>\n",
       "    </tr>\n",
       "    <tr>\n",
       "      <th>7</th>\n",
       "      <td>8</td>\n",
       "      <td>0.406240</td>\n",
       "      <td>0.812500</td>\n",
       "      <td>0.354159</td>\n",
       "      <td>0.833333</td>\n",
       "    </tr>\n",
       "    <tr>\n",
       "      <th>8</th>\n",
       "      <td>9</td>\n",
       "      <td>0.290235</td>\n",
       "      <td>0.880417</td>\n",
       "      <td>0.372854</td>\n",
       "      <td>0.847222</td>\n",
       "    </tr>\n",
       "    <tr>\n",
       "      <th>9</th>\n",
       "      <td>10</td>\n",
       "      <td>0.331692</td>\n",
       "      <td>0.812500</td>\n",
       "      <td>0.342401</td>\n",
       "      <td>0.861111</td>\n",
       "    </tr>\n",
       "  </tbody>\n",
       "</table>\n",
       "</div>"
      ],
      "text/plain": [
       "   Epoch      loss  accuracy  val_loss  val_accuracy\n",
       "0      1  3.339295  0.614767  0.640691      0.756944\n",
       "1      2  0.966752  0.750000  0.536383      0.791667\n",
       "2      3  0.605855  0.768058  0.488857      0.805556\n",
       "3      4  0.309955  0.875000  0.550839      0.819444\n",
       "4      5  0.417494  0.842697  0.360398      0.819444\n",
       "5      6  0.181286  0.875000  0.340146      0.833333\n",
       "6      7  0.331610  0.869181  0.331936      0.847222\n",
       "7      8  0.406240  0.812500  0.354159      0.833333\n",
       "8      9  0.290235  0.880417  0.372854      0.847222\n",
       "9     10  0.331692  0.812500  0.342401      0.861111"
      ]
     },
     "execution_count": 16,
     "metadata": {},
     "output_type": "execute_result"
    }
   ],
   "source": [
    "# Create a Pandas DataFrame containing the training history (metrics) of the model\n",
    "train_history = pd.DataFrame(history.history)\n",
    "\n",
    "# Add a new column 'Epoch' with values from 1 to the number of epochs\n",
    "train_history['Epoch'] = range(1, len(train_history) + 1)\n",
    "\n",
    "# Reorder columns for clarity\n",
    "train_history = train_history[['Epoch', 'loss', 'accuracy', 'val_loss', 'val_accuracy']]\n",
    "\n",
    "# Display the DataFrame\n",
    "train_history"
   ]
  },
  {
   "cell_type": "markdown",
   "metadata": {},
   "source": [
    "### IX. Evaluate Model (Train & Validation Set)"
   ]
  },
  {
   "cell_type": "code",
   "execution_count": 17,
   "metadata": {
    "execution": {
     "iopub.execute_input": "2024-01-06T09:35:31.527960Z",
     "iopub.status.busy": "2024-01-06T09:35:31.527264Z",
     "iopub.status.idle": "2024-01-06T09:37:14.323962Z",
     "shell.execute_reply": "2024-01-06T09:37:14.320926Z",
     "shell.execute_reply.started": "2024-01-06T09:35:31.527926Z"
    },
    "trusted": true
   },
   "outputs": [
    {
     "name": "stdout",
     "output_type": "stream",
     "text": [
      "\u001b[1m78/78\u001b[0m \u001b[32m━━━━━━━━━━━━━━━━━━━━\u001b[0m\u001b[37m\u001b[0m \u001b[1m21s\u001b[0m 265ms/step - accuracy: 0.9391 - loss: 0.1786\n",
      "\u001b[1m9/9\u001b[0m \u001b[32m━━━━━━━━━━━━━━━━━━━━\u001b[0m\u001b[37m\u001b[0m \u001b[1m3s\u001b[0m 270ms/step - accuracy: 0.8750 - loss: 0.3420\n"
     ]
    },
    {
     "data": {
      "text/html": [
       "<div>\n",
       "<style scoped>\n",
       "    .dataframe tbody tr th:only-of-type {\n",
       "        vertical-align: middle;\n",
       "    }\n",
       "\n",
       "    .dataframe tbody tr th {\n",
       "        vertical-align: top;\n",
       "    }\n",
       "\n",
       "    .dataframe thead th {\n",
       "        text-align: right;\n",
       "    }\n",
       "</style>\n",
       "<table border=\"1\" class=\"dataframe\">\n",
       "  <thead>\n",
       "    <tr style=\"text-align: right;\">\n",
       "      <th></th>\n",
       "      <th>Set</th>\n",
       "      <th>Loss</th>\n",
       "      <th>Accuracy</th>\n",
       "    </tr>\n",
       "  </thead>\n",
       "  <tbody>\n",
       "    <tr>\n",
       "      <th>0</th>\n",
       "      <td>Train</td>\n",
       "      <td>0.178623</td>\n",
       "      <td>93.91%</td>\n",
       "    </tr>\n",
       "    <tr>\n",
       "      <th>1</th>\n",
       "      <td>Validation</td>\n",
       "      <td>0.341962</td>\n",
       "      <td>87.50%</td>\n",
       "    </tr>\n",
       "  </tbody>\n",
       "</table>\n",
       "</div>"
      ],
      "text/plain": [
       "          Set      Loss Accuracy\n",
       "0       Train  0.178623   93.91%\n",
       "1  Validation  0.341962   87.50%"
      ]
     },
     "execution_count": 17,
     "metadata": {},
     "output_type": "execute_result"
    }
   ],
   "source": [
    "# Evaluate the model on the train set\n",
    "train_loss, train_accuracy = model.evaluate(train_generator, steps=train_generator.samples // train_generator.batch_size)\n",
    "\n",
    "# Evaluate the model on the validation set\n",
    "val_loss, val_accuracy = model.evaluate(valid_generator, steps=valid_generator.samples // valid_generator.batch_size)\n",
    "\n",
    "# Convert accuracy to percentage\n",
    "train_accuracy_percentage = train_accuracy * 100\n",
    "val_accuracy_percentage = val_accuracy * 100\n",
    "\n",
    "# Create a Pandas DataFrame to display the results\n",
    "evaluation_results = pd.DataFrame({\n",
    "    'Set': ['Train', 'Validation'],\n",
    "    'Loss': [train_loss, val_loss],\n",
    "    'Accuracy': [f'{train_accuracy_percentage:.2f}%', f'{val_accuracy_percentage:.2f}%']\n",
    "})\n",
    "\n",
    "# Display the evaluation results DataFrame\n",
    "evaluation_results"
   ]
  },
  {
   "cell_type": "markdown",
   "metadata": {},
   "source": [
    "**Plot Loss & Accuracy**"
   ]
  },
  {
   "cell_type": "code",
   "execution_count": 18,
   "metadata": {
    "execution": {
     "iopub.execute_input": "2024-01-06T09:40:44.707226Z",
     "iopub.status.busy": "2024-01-06T09:40:44.706670Z",
     "iopub.status.idle": "2024-01-06T09:40:45.190153Z",
     "shell.execute_reply": "2024-01-06T09:40:45.188604Z",
     "shell.execute_reply.started": "2024-01-06T09:40:44.707185Z"
    },
    "trusted": true
   },
   "outputs": [
    {
     "data": {
      "image/png": "[encoded data removed]",
      "text/plain": [
       "<Figure size 1200x600 with 2 Axes>"
      ]
     },
     "metadata": {},
     "output_type": "display_data"
    }
   ],
   "source": [
    "# Plotting the training and validation loss\n",
    "plt.figure(figsize=(12, 6))\n",
    "plt.subplot(1, 2, 1)\n",
    "plt.plot(train_history['loss'], label='Training Loss')\n",
    "plt.plot(train_history['val_loss'], label='Validation Loss')\n",
    "plt.title('Training & Validation Loss')\n",
    "plt.xlabel('Epoch')\n",
    "plt.ylabel('Loss')\n",
    "plt.legend()\n",
    "\n",
    "# Plotting the training and validation accuracy\n",
    "plt.subplot(1, 2, 2)\n",
    "plt.plot(train_history['accuracy'], label='Training Accuracy')\n",
    "plt.plot(train_history['val_accuracy'], label='Validation Accuracy')\n",
    "plt.title('Training & Validation Accuracy')\n",
    "plt.xlabel('Epoch')\n",
    "plt.ylabel('Accuracy')\n",
    "plt.legend()\n",
    "\n",
    "# Show the plots\n",
    "plt.tight_layout()\n",
    "plt.show()"
   ]
  }
 ],
 "metadata": {
  "kaggle": {
   "accelerator": "none",
   "dataSources": [
    {
     "datasetId": 1209633,
     "sourceId": 2021025,
     "sourceType": "datasetVersion"
    },
    {
     "datasetId": 4256535,
     "sourceId": 7332376,
     "sourceType": "datasetVersion"
    }
   ],
   "dockerImageVersionId": 30626,
   "isGpuEnabled": false,
   "isInternetEnabled": false,
   "language": "python",
   "sourceType": "notebook"
  },
  "kernelspec": {
   "display_name": "biogpt",
   "language": "python",
   "name": "python3"
  },
  "language_info": {
   "codemirror_mode": {
    "name": "ipython",
    "version": 3
   },
   "file_extension": ".py",
   "mimetype": "text/x-python",
   "name": "python",
   "nbconvert_exporter": "python",
   "pygments_lexer": "ipython3",
   "version": "3.11.13"
  }
 },
 "nbformat": 4,
 "nbformat_minor": 4
}
